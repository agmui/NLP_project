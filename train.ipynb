{
 "cells": [
  {
   "cell_type": "code",
   "execution_count": 1,
   "metadata": {
    "collapsed": true,
    "ExecuteTime": {
     "start_time": "2023-05-11T22:33:07.074313Z",
     "end_time": "2023-05-11T22:33:10.215049Z"
    }
   },
   "outputs": [
    {
     "name": "stderr",
     "output_type": "stream",
     "text": [
      "2023-05-11 22:33:08.276838: I tensorflow/core/platform/cpu_feature_guard.cc:182] This TensorFlow binary is optimized to use available CPU instructions in performance-critical operations.\n",
      "To enable the following instructions: AVX2 FMA, in other operations, rebuild TensorFlow with the appropriate compiler flags.\n",
      "2023-05-11 22:33:09.251857: W tensorflow/compiler/tf2tensorrt/utils/py_utils.cc:38] TF-TRT Warning: Could not find TensorRT\n"
     ]
    }
   ],
   "source": [
    "import os\n",
    "import pandas as pd\n",
    "import numpy as np\n",
    "# import networkx as nx\n",
    "import matplotlib.pyplot as plt\n",
    "import tensorflow as tf\n",
    "from tensorflow import keras\n",
    "from tensorflow.keras import layers\n",
    "from graph import GNNNodeClassifier\n",
    "import utils\n"
   ]
  },
  {
   "cell_type": "code",
   "execution_count": 2,
   "outputs": [],
   "source": [
    "def run_experiment(model, x_train, y_train):\n",
    "    # Compile the model.\n",
    "    model.compile(\n",
    "        optimizer=keras.optimizers.Adam(learning_rate),\n",
    "        loss=keras.losses.SparseCategoricalCrossentropy(from_logits=True),\n",
    "        metrics=[keras.metrics.SparseCategoricalAccuracy(name=\"acc\")],\n",
    "    )\n",
    "    # Create an early stopping callback.\n",
    "    early_stopping = keras.callbacks.EarlyStopping(\n",
    "        monitor=\"val_acc\", patience=50, restore_best_weights=True\n",
    "    )\n",
    "    # Fit the model.\n",
    "    history = model.fit(\n",
    "        x=x_train,\n",
    "        y=y_train,\n",
    "        epochs=num_epochs,\n",
    "        batch_size=batch_size,\n",
    "        validation_split=0.15,\n",
    "        callbacks=[early_stopping],\n",
    "    )\n",
    "\n",
    "    return history\n",
    "\n"
   ],
   "metadata": {
    "collapsed": false,
    "ExecuteTime": {
     "start_time": "2023-05-11T22:33:10.214547Z",
     "end_time": "2023-05-11T22:33:10.219577Z"
    }
   }
  },
  {
   "cell_type": "code",
   "execution_count": 3,
   "outputs": [],
   "source": [
    "def get_graph_info():\n",
    "    # # Create an edges array (sparse adjacency matrix) of shape [2, num_edges].\n",
    "    # edges = citations[[\"source\", \"target\"]].to_numpy().T\n",
    "    # # Create an edge weights array of ones.\n",
    "    # edge_weights = tf.ones(shape=edges.shape[1])\n",
    "    # # Create a node features array of shape [num_nodes, num_features].\n",
    "    # node_features = tf.cast(\n",
    "    #     papers.sort_values(\"paper_id\")[feature_names].to_numpy(), dtype=tf.dtypes.float32\n",
    "    # )\n",
    "    # # Create graph info tuple with node_features, edges, and edge_weights.\n",
    "    # graph_info = (node_features, edges, edge_weights)\n",
    "    #\n",
    "    # print(\"Edges shape:\", edges.shape)\n",
    "    # print(\"Nodes shape:\", node_features.shape)\n",
    "    return (\"node_features\", \"edges\", \"edge_weights\")\n"
   ],
   "metadata": {
    "collapsed": false,
    "ExecuteTime": {
     "start_time": "2023-05-11T22:33:10.221106Z",
     "end_time": "2023-05-11T22:33:10.223684Z"
    }
   }
  },
  {
   "cell_type": "code",
   "execution_count": 4,
   "outputs": [],
   "source": [
    "def getStatus(statusDesc) -> int:\n",
    "    return statusDesc == \"Accepted\" if 1 else 0\n"
   ],
   "metadata": {
    "collapsed": false,
    "ExecuteTime": {
     "start_time": "2023-05-11T22:33:10.225612Z",
     "end_time": "2023-05-11T22:33:10.228558Z"
    }
   }
  },
  {
   "cell_type": "code",
   "execution_count": 5,
   "outputs": [],
   "source": [
    "hidden_units = [32, 32]\n",
    "learning_rate = 0.01\n",
    "dropout_rate = 0.5\n",
    "num_epochs = 300\n",
    "batch_size = 256\n",
    "\n",
    "problem_id = \"p03949\"\n",
    "problem_data = pd.read_csv(\"./data/Project_CodeNet/metadata/p03949.csv\")\n",
    "language_extension = (\"C++\", \"cpp\")\n",
    "\n"
   ],
   "metadata": {
    "collapsed": false,
    "ExecuteTime": {
     "start_time": "2023-05-11T22:33:10.270309Z",
     "end_time": "2023-05-11T22:33:10.274153Z"
    }
   }
  },
  {
   "cell_type": "code",
   "execution_count": 6,
   "outputs": [],
   "source": [
    "data = {\"submission_id\": [], \"code\": []}\n",
    "\n",
    "for row in range(len(problem_data)):\n",
    "    submission_id = problem_data.iloc[[row]][\"submission_id\"].values\n",
    "    path = f'./data/Project_CodeNet/data/{problem_id}/{language_extension[0]}/{submission_id[0]}.{language_extension[1]}'\n",
    "    if os.path.exists(path):\n",
    "        with open(path, encoding=\"utf8\") as f:\n",
    "            code = f.readlines()\n",
    "            # print(submission_id, code)\n",
    "            data[\"submission_id\"].append(submission_id[0])\n",
    "            data[\"code\"].append(code[0])\n",
    "\n"
   ],
   "metadata": {
    "collapsed": false,
    "ExecuteTime": {
     "start_time": "2023-05-11T22:33:10.270486Z",
     "end_time": "2023-05-11T22:33:11.017585Z"
    }
   }
  },
  {
   "cell_type": "code",
   "execution_count": 7,
   "outputs": [],
   "source": [
    "code_df = pd.DataFrame(data)\n",
    "code_df=code_df.set_index('submission_id')\n",
    "problem_data=problem_data.set_index('submission_id')\n",
    "problem_data=problem_data.join(code_df, on='submission_id')\n",
    "\n"
   ],
   "metadata": {
    "collapsed": false,
    "ExecuteTime": {
     "start_time": "2023-05-11T22:33:11.022283Z",
     "end_time": "2023-05-11T22:33:11.027135Z"
    }
   }
  },
  {
   "cell_type": "code",
   "execution_count": 9,
   "outputs": [
    {
     "data": {
      "text/plain": "              problem_id     user_id        date language  original_language   \nsubmission_id                                                                  \ns182099834        p03949  u846379833  1601312949      C++    C++ (GCC 9.2.1)  \\\ns904840258        p03949  u846379833  1601312515      C++    C++ (GCC 9.2.1)   \ns262047390        p03949  u863370423  1601000823      C++    C++ (GCC 9.2.1)   \ns673153461        p03949  u816631826  1601000583      C++    C++ (GCC 9.2.1)   \ns728796387        p03949  u513211419  1600965129      C++    C++ (GCC 9.2.1)   \n...                  ...         ...         ...      ...                ...   \ns273733813        p03949  u354336886  1478485345      C++  C++14 (GCC 5.4.1)   \ns653192894        p03949  u207056619  1478485340      C++  C++14 (GCC 5.4.1)   \ns117052253        p03949  u280354208  1478485266      C++  C++14 (GCC 5.4.1)   \ns069521291        p03949  u647940094  1478485203      C++  C++14 (GCC 5.4.1)   \ns837684439        p03949  u277541046  1478485074      C++  C++14 (GCC 5.4.1)   \n\n              filename_ext        status  cpu_time   memory  code_size   \nsubmission_id                                                            \ns182099834             cpp      Accepted     254.0  18420.0       1992  \\\ns904840258             cpp  Wrong Answer     244.0  18388.0       2002   \ns262047390             cpp      Accepted      62.0  15076.0       1701   \ns673153461             cpp  Wrong Answer      68.0  14604.0       1759   \ns728796387             cpp      Accepted     226.0  27964.0      21384   \n...                    ...           ...       ...      ...        ...   \ns273733813             cpp      Accepted      81.0  21248.0       2319   \ns653192894             cpp  Wrong Answer     569.0  23168.0       1910   \ns117052253             cpp  Wrong Answer     105.0  13184.0       3896   \ns069521291             cpp  Wrong Answer      69.0  15360.0       1228   \ns837684439             cpp      Accepted      86.0   7924.0       1417   \n\n               accuracy                         code  \nsubmission_id                                         \ns182099834          NaN   #include <bits/stdc++.h>\\n  \ns904840258          NaN   #include <bits/stdc++.h>\\n  \ns262047390          NaN    #include<bits/stdc++.h>\\n  \ns673153461          NaN    #include<bits/stdc++.h>\\n  \ns728796387          NaN     /*\\tauthor:  Kite_kuma\\n  \n...                 ...                          ...  \ns273733813          NaN   #include <bits/stdc++.h>\\n  \ns653192894          NaN        #include <iostream>\\n  \ns117052253          NaN             // {{{ by shik\\n  \ns069521291          NaN          #include<stdio.h>\\n  \ns837684439          NaN  #define _USE_MATH_DEFINES\\n  \n\n[3810 rows x 12 columns]",
      "text/html": "<div>\n<style scoped>\n    .dataframe tbody tr th:only-of-type {\n        vertical-align: middle;\n    }\n\n    .dataframe tbody tr th {\n        vertical-align: top;\n    }\n\n    .dataframe thead th {\n        text-align: right;\n    }\n</style>\n<table border=\"1\" class=\"dataframe\">\n  <thead>\n    <tr style=\"text-align: right;\">\n      <th></th>\n      <th>problem_id</th>\n      <th>user_id</th>\n      <th>date</th>\n      <th>language</th>\n      <th>original_language</th>\n      <th>filename_ext</th>\n      <th>status</th>\n      <th>cpu_time</th>\n      <th>memory</th>\n      <th>code_size</th>\n      <th>accuracy</th>\n      <th>code</th>\n    </tr>\n    <tr>\n      <th>submission_id</th>\n      <th></th>\n      <th></th>\n      <th></th>\n      <th></th>\n      <th></th>\n      <th></th>\n      <th></th>\n      <th></th>\n      <th></th>\n      <th></th>\n      <th></th>\n      <th></th>\n    </tr>\n  </thead>\n  <tbody>\n    <tr>\n      <th>s182099834</th>\n      <td>p03949</td>\n      <td>u846379833</td>\n      <td>1601312949</td>\n      <td>C++</td>\n      <td>C++ (GCC 9.2.1)</td>\n      <td>cpp</td>\n      <td>Accepted</td>\n      <td>254.0</td>\n      <td>18420.0</td>\n      <td>1992</td>\n      <td>NaN</td>\n      <td>#include &lt;bits/stdc++.h&gt;\\n</td>\n    </tr>\n    <tr>\n      <th>s904840258</th>\n      <td>p03949</td>\n      <td>u846379833</td>\n      <td>1601312515</td>\n      <td>C++</td>\n      <td>C++ (GCC 9.2.1)</td>\n      <td>cpp</td>\n      <td>Wrong Answer</td>\n      <td>244.0</td>\n      <td>18388.0</td>\n      <td>2002</td>\n      <td>NaN</td>\n      <td>#include &lt;bits/stdc++.h&gt;\\n</td>\n    </tr>\n    <tr>\n      <th>s262047390</th>\n      <td>p03949</td>\n      <td>u863370423</td>\n      <td>1601000823</td>\n      <td>C++</td>\n      <td>C++ (GCC 9.2.1)</td>\n      <td>cpp</td>\n      <td>Accepted</td>\n      <td>62.0</td>\n      <td>15076.0</td>\n      <td>1701</td>\n      <td>NaN</td>\n      <td>#include&lt;bits/stdc++.h&gt;\\n</td>\n    </tr>\n    <tr>\n      <th>s673153461</th>\n      <td>p03949</td>\n      <td>u816631826</td>\n      <td>1601000583</td>\n      <td>C++</td>\n      <td>C++ (GCC 9.2.1)</td>\n      <td>cpp</td>\n      <td>Wrong Answer</td>\n      <td>68.0</td>\n      <td>14604.0</td>\n      <td>1759</td>\n      <td>NaN</td>\n      <td>#include&lt;bits/stdc++.h&gt;\\n</td>\n    </tr>\n    <tr>\n      <th>s728796387</th>\n      <td>p03949</td>\n      <td>u513211419</td>\n      <td>1600965129</td>\n      <td>C++</td>\n      <td>C++ (GCC 9.2.1)</td>\n      <td>cpp</td>\n      <td>Accepted</td>\n      <td>226.0</td>\n      <td>27964.0</td>\n      <td>21384</td>\n      <td>NaN</td>\n      <td>/*\\tauthor:  Kite_kuma\\n</td>\n    </tr>\n    <tr>\n      <th>...</th>\n      <td>...</td>\n      <td>...</td>\n      <td>...</td>\n      <td>...</td>\n      <td>...</td>\n      <td>...</td>\n      <td>...</td>\n      <td>...</td>\n      <td>...</td>\n      <td>...</td>\n      <td>...</td>\n      <td>...</td>\n    </tr>\n    <tr>\n      <th>s273733813</th>\n      <td>p03949</td>\n      <td>u354336886</td>\n      <td>1478485345</td>\n      <td>C++</td>\n      <td>C++14 (GCC 5.4.1)</td>\n      <td>cpp</td>\n      <td>Accepted</td>\n      <td>81.0</td>\n      <td>21248.0</td>\n      <td>2319</td>\n      <td>NaN</td>\n      <td>#include &lt;bits/stdc++.h&gt;\\n</td>\n    </tr>\n    <tr>\n      <th>s653192894</th>\n      <td>p03949</td>\n      <td>u207056619</td>\n      <td>1478485340</td>\n      <td>C++</td>\n      <td>C++14 (GCC 5.4.1)</td>\n      <td>cpp</td>\n      <td>Wrong Answer</td>\n      <td>569.0</td>\n      <td>23168.0</td>\n      <td>1910</td>\n      <td>NaN</td>\n      <td>#include &lt;iostream&gt;\\n</td>\n    </tr>\n    <tr>\n      <th>s117052253</th>\n      <td>p03949</td>\n      <td>u280354208</td>\n      <td>1478485266</td>\n      <td>C++</td>\n      <td>C++14 (GCC 5.4.1)</td>\n      <td>cpp</td>\n      <td>Wrong Answer</td>\n      <td>105.0</td>\n      <td>13184.0</td>\n      <td>3896</td>\n      <td>NaN</td>\n      <td>// {{{ by shik\\n</td>\n    </tr>\n    <tr>\n      <th>s069521291</th>\n      <td>p03949</td>\n      <td>u647940094</td>\n      <td>1478485203</td>\n      <td>C++</td>\n      <td>C++14 (GCC 5.4.1)</td>\n      <td>cpp</td>\n      <td>Wrong Answer</td>\n      <td>69.0</td>\n      <td>15360.0</td>\n      <td>1228</td>\n      <td>NaN</td>\n      <td>#include&lt;stdio.h&gt;\\n</td>\n    </tr>\n    <tr>\n      <th>s837684439</th>\n      <td>p03949</td>\n      <td>u277541046</td>\n      <td>1478485074</td>\n      <td>C++</td>\n      <td>C++14 (GCC 5.4.1)</td>\n      <td>cpp</td>\n      <td>Accepted</td>\n      <td>86.0</td>\n      <td>7924.0</td>\n      <td>1417</td>\n      <td>NaN</td>\n      <td>#define _USE_MATH_DEFINES\\n</td>\n    </tr>\n  </tbody>\n</table>\n<p>3810 rows × 12 columns</p>\n</div>"
     },
     "execution_count": 9,
     "metadata": {},
     "output_type": "execute_result"
    }
   ],
   "source": [
    "problem_data"
   ],
   "metadata": {
    "collapsed": false,
    "ExecuteTime": {
     "start_time": "2023-05-11T22:33:22.656184Z",
     "end_time": "2023-05-11T22:33:22.674131Z"
    }
   }
  },
  {
   "cell_type": "code",
   "execution_count": 10,
   "outputs": [
    {
     "data": {
      "text/plain": "                     status                         code\nsubmission_id                                           \ns182099834         Accepted   #include <bits/stdc++.h>\\n\ns904840258     Wrong Answer   #include <bits/stdc++.h>\\n\ns262047390         Accepted    #include<bits/stdc++.h>\\n\ns673153461     Wrong Answer    #include<bits/stdc++.h>\\n\ns728796387         Accepted     /*\\tauthor:  Kite_kuma\\n\n...                     ...                          ...\ns273733813         Accepted   #include <bits/stdc++.h>\\n\ns653192894     Wrong Answer        #include <iostream>\\n\ns117052253     Wrong Answer             // {{{ by shik\\n\ns069521291     Wrong Answer          #include<stdio.h>\\n\ns837684439         Accepted  #define _USE_MATH_DEFINES\\n\n\n[3810 rows x 2 columns]",
      "text/html": "<div>\n<style scoped>\n    .dataframe tbody tr th:only-of-type {\n        vertical-align: middle;\n    }\n\n    .dataframe tbody tr th {\n        vertical-align: top;\n    }\n\n    .dataframe thead th {\n        text-align: right;\n    }\n</style>\n<table border=\"1\" class=\"dataframe\">\n  <thead>\n    <tr style=\"text-align: right;\">\n      <th></th>\n      <th>status</th>\n      <th>code</th>\n    </tr>\n    <tr>\n      <th>submission_id</th>\n      <th></th>\n      <th></th>\n    </tr>\n  </thead>\n  <tbody>\n    <tr>\n      <th>s182099834</th>\n      <td>Accepted</td>\n      <td>#include &lt;bits/stdc++.h&gt;\\n</td>\n    </tr>\n    <tr>\n      <th>s904840258</th>\n      <td>Wrong Answer</td>\n      <td>#include &lt;bits/stdc++.h&gt;\\n</td>\n    </tr>\n    <tr>\n      <th>s262047390</th>\n      <td>Accepted</td>\n      <td>#include&lt;bits/stdc++.h&gt;\\n</td>\n    </tr>\n    <tr>\n      <th>s673153461</th>\n      <td>Wrong Answer</td>\n      <td>#include&lt;bits/stdc++.h&gt;\\n</td>\n    </tr>\n    <tr>\n      <th>s728796387</th>\n      <td>Accepted</td>\n      <td>/*\\tauthor:  Kite_kuma\\n</td>\n    </tr>\n    <tr>\n      <th>...</th>\n      <td>...</td>\n      <td>...</td>\n    </tr>\n    <tr>\n      <th>s273733813</th>\n      <td>Accepted</td>\n      <td>#include &lt;bits/stdc++.h&gt;\\n</td>\n    </tr>\n    <tr>\n      <th>s653192894</th>\n      <td>Wrong Answer</td>\n      <td>#include &lt;iostream&gt;\\n</td>\n    </tr>\n    <tr>\n      <th>s117052253</th>\n      <td>Wrong Answer</td>\n      <td>// {{{ by shik\\n</td>\n    </tr>\n    <tr>\n      <th>s069521291</th>\n      <td>Wrong Answer</td>\n      <td>#include&lt;stdio.h&gt;\\n</td>\n    </tr>\n    <tr>\n      <th>s837684439</th>\n      <td>Accepted</td>\n      <td>#define _USE_MATH_DEFINES\\n</td>\n    </tr>\n  </tbody>\n</table>\n<p>3810 rows × 2 columns</p>\n</div>"
     },
     "execution_count": 10,
     "metadata": {},
     "output_type": "execute_result"
    }
   ],
   "source": [
    "problem_data=problem_data[['status','code']]\n",
    "problem_data"
   ],
   "metadata": {
    "collapsed": false,
    "ExecuteTime": {
     "start_time": "2023-05-11T22:33:31.893619Z",
     "end_time": "2023-05-11T22:33:31.916308Z"
    }
   }
  },
  {
   "cell_type": "code",
   "execution_count": 11,
   "outputs": [
    {
     "name": "stdout",
     "output_type": "stream",
     "text": [
      "Train data shape: (1895, 2)\n",
      "Test data shape: (1915, 2)\n"
     ]
    }
   ],
   "source": [
    "# split data\n",
    "train_data, test_data = [], []\n",
    "\n",
    "for _, group_data in problem_data.groupby(\"submission_id\"):\n",
    "    # Select around 50% of the dataset for training.\n",
    "    random_selection = np.random.rand(len(group_data.index)) <= 0.5\n",
    "    train_data.append(group_data[random_selection])\n",
    "    test_data.append(group_data[~random_selection])\n",
    "\n",
    "train_data = pd.concat(train_data).sample(frac=1)\n",
    "test_data = pd.concat(test_data).sample(frac=1)\n",
    "\n",
    "print(\"Train data shape:\", train_data.shape)\n",
    "print(\"Test data shape:\", test_data.shape)\n",
    "\n"
   ],
   "metadata": {
    "collapsed": false,
    "ExecuteTime": {
     "start_time": "2023-05-11T22:33:34.338357Z",
     "end_time": "2023-05-11T22:33:36.081609Z"
    }
   }
  },
  {
   "cell_type": "code",
   "execution_count": 14,
   "outputs": [
    {
     "data": {
      "text/plain": "submission_id\ns865993703        Accepted\ns780160826    Wrong Answer\ns349694722        Accepted\ns479803191    Wrong Answer\ns626857453    Wrong Answer\n                  ...     \ns514220718    Wrong Answer\ns408565079    Wrong Answer\ns661477777        Accepted\ns655641161        Accepted\ns644934678        Accepted\nName: status, Length: 1895, dtype: object"
     },
     "execution_count": 14,
     "metadata": {},
     "output_type": "execute_result"
    }
   ],
   "source": [
    "train_data['status']"
   ],
   "metadata": {
    "collapsed": false,
    "ExecuteTime": {
     "start_time": "2023-05-11T22:34:31.367011Z",
     "end_time": "2023-05-11T22:34:31.371652Z"
    }
   }
  },
  {
   "cell_type": "code",
   "execution_count": 15,
   "outputs": [
    {
     "name": "stderr",
     "output_type": "stream",
     "text": [
      "2023-05-11 22:36:29.551788: I tensorflow/compiler/xla/stream_executor/cuda/cuda_gpu_executor.cc:996] successful NUMA node read from SysFS had negative value (-1), but there must be at least one NUMA node, so returning NUMA node zero. See more at https://github.com/torvalds/linux/blob/v6.0/Documentation/ABI/testing/sysfs-bus-pci#L344-L355\n",
      "2023-05-11 22:36:29.680683: W tensorflow/core/common_runtime/gpu/gpu_device.cc:1956] Cannot dlopen some GPU libraries. Please make sure the missing libraries mentioned above are installed properly if you would like to use GPU. Follow the guide at https://www.tensorflow.org/install/gpu for how to download and setup the required libraries for your platform.\n",
      "Skipping registering GPU devices...\n"
     ]
    },
    {
     "ename": "InvalidArgumentError",
     "evalue": "Value for attr 'T' of string is not in the list of allowed values: float, double, int32, uint8, int16, int8, complex64, int64, qint8, quint8, qint32, bfloat16, qint16, quint16, uint16, complex128, half, uint32, uint64\n\t; NodeDef: {{node Sum}}; Op<name=Sum; signature=input:T, reduction_indices:Tidx -> output:T; attr=keep_dims:bool,default=false; attr=T:type,allowed=[DT_FLOAT, DT_DOUBLE, DT_INT32, DT_UINT8, DT_INT16, 10440210506161272279, DT_UINT16, DT_COMPLEX128, DT_HALF, DT_UINT32, DT_UINT64]; attr=Tidx:type,default=DT_INT32,allowed=[DT_INT32, DT_INT64]> [Op:Sum]",
     "output_type": "error",
     "traceback": [
      "\u001B[0;31m---------------------------------------------------------------------------\u001B[0m",
      "\u001B[0;31mInvalidArgumentError\u001B[0m                      Traceback (most recent call last)",
      "Cell \u001B[0;32mIn[15], line 8\u001B[0m\n\u001B[1;32m      5\u001B[0m y_train \u001B[38;5;241m=\u001B[39m train_data[\u001B[38;5;124m\"\u001B[39m\u001B[38;5;124mstatus\u001B[39m\u001B[38;5;124m\"\u001B[39m]\n\u001B[1;32m      6\u001B[0m y_test \u001B[38;5;241m=\u001B[39m test_data[\u001B[38;5;124m\"\u001B[39m\u001B[38;5;124mstatus\u001B[39m\u001B[38;5;124m\"\u001B[39m]\n\u001B[0;32m----> 8\u001B[0m model \u001B[38;5;241m=\u001B[39m \u001B[43mGNNNodeClassifier\u001B[49m\u001B[43m(\u001B[49m\u001B[43mget_graph_info\u001B[49m\u001B[43m(\u001B[49m\u001B[43m)\u001B[49m\u001B[43m,\u001B[49m\u001B[43m \u001B[49m\u001B[38;5;241;43m2\u001B[39;49m\u001B[43m,\u001B[49m\u001B[43m \u001B[49m\u001B[43mhidden_units\u001B[49m\u001B[43m)\u001B[49m\n\u001B[1;32m      9\u001B[0m run_experiment(model, x_train, y_train)\n\u001B[1;32m     10\u001B[0m \u001B[38;5;66;03m# feature_names = set(problem_data.columns) - {\"paper_id\", \"subject\"}\u001B[39;00m\n\u001B[1;32m     11\u001B[0m \u001B[38;5;66;03m# num_features = len(feature_names)\u001B[39;00m\n\u001B[1;32m     12\u001B[0m \u001B[38;5;66;03m# num_classes = len(class_idx)\u001B[39;00m\n",
      "File \u001B[0;32m~/cs/NLP/NLP_project/graph.py:148\u001B[0m, in \u001B[0;36mGNNNodeClassifier.__init__\u001B[0;34m(self, graph_info, num_classes, hidden_units, aggregation_type, combination_type, dropout_rate, normalize, *args, **kwargs)\u001B[0m\n\u001B[1;32m    146\u001B[0m     \u001B[38;5;28mself\u001B[39m\u001B[38;5;241m.\u001B[39medge_weights \u001B[38;5;241m=\u001B[39m tf\u001B[38;5;241m.\u001B[39mones(shape\u001B[38;5;241m=\u001B[39medges\u001B[38;5;241m.\u001B[39mshape[\u001B[38;5;241m1\u001B[39m])\n\u001B[1;32m    147\u001B[0m \u001B[38;5;66;03m# Scale edge_weights to sum to 1.\u001B[39;00m\n\u001B[0;32m--> 148\u001B[0m \u001B[38;5;28mself\u001B[39m\u001B[38;5;241m.\u001B[39medge_weights \u001B[38;5;241m=\u001B[39m \u001B[38;5;28mself\u001B[39m\u001B[38;5;241m.\u001B[39medge_weights \u001B[38;5;241m/\u001B[39m \u001B[43mtf\u001B[49m\u001B[38;5;241;43m.\u001B[39;49m\u001B[43mmath\u001B[49m\u001B[38;5;241;43m.\u001B[39;49m\u001B[43mreduce_sum\u001B[49m\u001B[43m(\u001B[49m\u001B[38;5;28;43mself\u001B[39;49m\u001B[38;5;241;43m.\u001B[39;49m\u001B[43medge_weights\u001B[49m\u001B[43m)\u001B[49m\n\u001B[1;32m    150\u001B[0m \u001B[38;5;66;03m# Create a process layer.\u001B[39;00m\n\u001B[1;32m    151\u001B[0m \u001B[38;5;28mself\u001B[39m\u001B[38;5;241m.\u001B[39mpreprocess \u001B[38;5;241m=\u001B[39m create_ffn(hidden_units, dropout_rate, name\u001B[38;5;241m=\u001B[39m\u001B[38;5;124m\"\u001B[39m\u001B[38;5;124mpreprocess\u001B[39m\u001B[38;5;124m\"\u001B[39m)\n",
      "File \u001B[0;32m~/cs/NLP/NLP_project/venv/lib64/python3.10/site-packages/tensorflow/python/util/traceback_utils.py:153\u001B[0m, in \u001B[0;36mfilter_traceback.<locals>.error_handler\u001B[0;34m(*args, **kwargs)\u001B[0m\n\u001B[1;32m    151\u001B[0m \u001B[38;5;28;01mexcept\u001B[39;00m \u001B[38;5;167;01mException\u001B[39;00m \u001B[38;5;28;01mas\u001B[39;00m e:\n\u001B[1;32m    152\u001B[0m   filtered_tb \u001B[38;5;241m=\u001B[39m _process_traceback_frames(e\u001B[38;5;241m.\u001B[39m__traceback__)\n\u001B[0;32m--> 153\u001B[0m   \u001B[38;5;28;01mraise\u001B[39;00m e\u001B[38;5;241m.\u001B[39mwith_traceback(filtered_tb) \u001B[38;5;28;01mfrom\u001B[39;00m \u001B[38;5;28;01mNone\u001B[39;00m\n\u001B[1;32m    154\u001B[0m \u001B[38;5;28;01mfinally\u001B[39;00m:\n\u001B[1;32m    155\u001B[0m   \u001B[38;5;28;01mdel\u001B[39;00m filtered_tb\n",
      "File \u001B[0;32m~/cs/NLP/NLP_project/venv/lib64/python3.10/site-packages/tensorflow/python/eager/execute.py:52\u001B[0m, in \u001B[0;36mquick_execute\u001B[0;34m(op_name, num_outputs, inputs, attrs, ctx, name)\u001B[0m\n\u001B[1;32m     50\u001B[0m \u001B[38;5;28;01mtry\u001B[39;00m:\n\u001B[1;32m     51\u001B[0m   ctx\u001B[38;5;241m.\u001B[39mensure_initialized()\n\u001B[0;32m---> 52\u001B[0m   tensors \u001B[38;5;241m=\u001B[39m pywrap_tfe\u001B[38;5;241m.\u001B[39mTFE_Py_Execute(ctx\u001B[38;5;241m.\u001B[39m_handle, device_name, op_name,\n\u001B[1;32m     53\u001B[0m                                       inputs, attrs, num_outputs)\n\u001B[1;32m     54\u001B[0m \u001B[38;5;28;01mexcept\u001B[39;00m core\u001B[38;5;241m.\u001B[39m_NotOkStatusException \u001B[38;5;28;01mas\u001B[39;00m e:\n\u001B[1;32m     55\u001B[0m   \u001B[38;5;28;01mif\u001B[39;00m name \u001B[38;5;129;01mis\u001B[39;00m \u001B[38;5;129;01mnot\u001B[39;00m \u001B[38;5;28;01mNone\u001B[39;00m:\n",
      "\u001B[0;31mInvalidArgumentError\u001B[0m: Value for attr 'T' of string is not in the list of allowed values: float, double, int32, uint8, int16, int8, complex64, int64, qint8, quint8, qint32, bfloat16, qint16, quint16, uint16, complex128, half, uint32, uint64\n\t; NodeDef: {{node Sum}}; Op<name=Sum; signature=input:T, reduction_indices:Tidx -> output:T; attr=keep_dims:bool,default=false; attr=T:type,allowed=[DT_FLOAT, DT_DOUBLE, DT_INT32, DT_UINT8, DT_INT16, 10440210506161272279, DT_UINT16, DT_COMPLEX128, DT_HALF, DT_UINT32, DT_UINT64]; attr=Tidx:type,default=DT_INT32,allowed=[DT_INT32, DT_INT64]> [Op:Sum]"
     ]
    }
   ],
   "source": [
    "# Create train and test features as a numpy array.\n",
    "x_train = train_data[\"code\"].to_numpy()\n",
    "x_test = test_data[\"code\"].to_numpy()\n",
    "# Create train and test targets as a numpy array.\n",
    "y_train = train_data[\"status\"]\n",
    "y_test = test_data[\"status\"]\n",
    "\n",
    "model = GNNNodeClassifier(get_graph_info(), 2, hidden_units)\n",
    "run_experiment(model, x_train, y_train)\n",
    "# feature_names = set(problem_data.columns) - {\"paper_id\", \"subject\"}\n",
    "# num_features = len(feature_names)\n",
    "# num_classes = len(class_idx)\n",
    "\n"
   ],
   "metadata": {
    "collapsed": false
   }
  }
 ],
 "metadata": {
  "kernelspec": {
   "display_name": "Python 3",
   "language": "python",
   "name": "python3"
  },
  "language_info": {
   "codemirror_mode": {
    "name": "ipython",
    "version": 2
   },
   "file_extension": ".py",
   "mimetype": "text/x-python",
   "name": "python",
   "nbconvert_exporter": "python",
   "pygments_lexer": "ipython2",
   "version": "2.7.6"
  }
 },
 "nbformat": 4,
 "nbformat_minor": 0
}
